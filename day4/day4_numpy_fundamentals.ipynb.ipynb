{
 "cells": [
  {
   "cell_type": "markdown",
   "id": "49ab2427-3ca4-4f98-9490-4522aaea8699",
   "metadata": {},
   "source": [
    "Create NumPy arrays from scratch and from data & Perform:\n",
    "\n",
    "#Basic ops: +, *, .reshape(), .mean(), .std()\n",
    "\n",
    "#Boolean masking\n",
    "\n",
    "#Matrix multiplication "
   ]
  },
  {
   "cell_type": "code",
   "execution_count": 2,
   "id": "9970d765-2445-4593-9baa-14a7c5bb97e8",
   "metadata": {},
   "outputs": [],
   "source": [
    "import numpy as np"
   ]
  },
  {
   "cell_type": "code",
   "execution_count": 23,
   "id": "4a1e7e5b-f9aa-45fe-9af3-35490c858550",
   "metadata": {},
   "outputs": [
    {
     "name": "stdout",
     "output_type": "stream",
     "text": [
      "sum: [ 7 10  7]\n",
      "product: [ 6 16 12]\n",
      "original array [1 2 3 6 8 4]\n",
      "reshaped array: [[1 2 3]\n",
      " [6 8 4]]\n",
      "mean: 4.0\n",
      "stadard deviation: 2.38\n"
     ]
    }
   ],
   "source": [
    "# nnumpy array for manipulation (1-d)\n",
    "arr_1= np.array([1,2,3])\n",
    "arr_2= np.array([6,8,4])\n",
    "# add\n",
    "add= arr_1+arr_2\n",
    "print('sum:',add)\n",
    "#multiply\n",
    "mul= arr_1* arr_2\n",
    "print('product:',mul)\n",
    "# reshape\n",
    "arr_3= np.concatenate((arr_1, arr_2), axis=0)\n",
    "print('original array',arr_3)\n",
    "arr_4= arr_3.reshape(2,3)\n",
    "print('reshaped array:',arr_4)\n",
    "#mean\n",
    "mean=arr_3.mean()\n",
    "print('mean:', mean)\n",
    "stand_dev= arr_3.std().round(2)\n",
    "print('stadard deviation:', stand_dev)\n"
   ]
  },
  {
   "cell_type": "code",
   "execution_count": 55,
   "id": "358a1f75-3376-4d03-a781-067c3be45aa9",
   "metadata": {},
   "outputs": [
    {
     "name": "stdout",
     "output_type": "stream",
     "text": [
      "reshapes array: [[[ 2  4  3  8]\n",
      "  [12 45 23 56]\n",
      "  [12 63 11 34]]]\n",
      "sum [[ 8 76 15 29 16 48]\n",
      " [46 60 17 75 64 57]]\n",
      "product: [[ 12 288  36 168  48 135]\n",
      " [529 224  60 756 583 782]]\n",
      "mean: 22.75\n",
      "standard deviation: 20.74\n"
     ]
    }
   ],
   "source": [
    "#2-d\n",
    "arr_2d= np.array([[2,4,3,8,12,45], [23,56,12,63,11,34]])\n",
    "arr_2d1= np.array([[6,72,12,21,4,3],[23,4,5,12,53,23]])\n",
    "\n",
    "#reshape\n",
    "arr_3d=arr_2d.reshape(1,3,4)\n",
    "print('reshapes array:',arr_3d.reshape(1,3,4))\n",
    "#add\n",
    "print('sum', arr_2d+ arr_2d1)\n",
    "#product\n",
    "print('product:', arr_2d *arr_2d1)\n",
    "#mean\n",
    "print('mean:', arr_2d.mean())\n",
    "#standard deviation\n",
    "print('standard deviation:', arr_2d1.std().round(2))\n"
   ]
  },
  {
   "cell_type": "code",
   "execution_count": 62,
   "id": "ac9a240f-e7d1-4507-9c6f-919d9c3a7160",
   "metadata": {},
   "outputs": [
    {
     "name": "stdout",
     "output_type": "stream",
     "text": [
      "[[[32 12 25 28]\n",
      "  [46 29  5 26]\n",
      "  [20 26  3 29]]] \n",
      "\n",
      "sum: [[[34 16 28 36]\n",
      "  [58 74 28 82]\n",
      "  [32 89 14 63]]] \n",
      "\n",
      "product: [[[ 64  48  75 196]\n",
      "  [ 92 116  15 182]\n",
      "  [ 40 104   9 203]]] \n",
      "\n",
      "add using broadcasting: [[[ 4  8  6 15]\n",
      "  [14 49 26 63]\n",
      "  [14 67 14 41]]]\n"
     ]
    }
   ],
   "source": [
    "# 3-d (broadcasting)\n",
    "arr_3d1= np.random.randint(1,50 , size= (1,3,4))\n",
    "print(arr_3d1,'\\n')\n",
    "#add \n",
    "print('sum:', arr_3d+ arr_3d1 ,'\\n')\n",
    "# product\n",
    "arr_1d= np.array([2,4,3,7])\n",
    "print('product:', arr_3d1*arr_1d, '\\n') #here broadcasting works by multiplying two arrays of different sizes and dimension\n",
    "#add using broadcasting\n",
    "print('add using broadcasting:', arr_3d+ arr_1d)"
   ]
  },
  {
   "cell_type": "markdown",
   "id": "3444f715-d269-4f04-b8d8-1c9fd30dcf6c",
   "metadata": {},
   "source": [
    "broadcasting only works when shape of the rows are same of two arrays like [1,2,3] and [[2,5,3],[4,6,4]]"
   ]
  },
  {
   "cell_type": "code",
   "execution_count": 74,
   "id": "1ca65e8c-4e40-41a0-8f37-91d6ec52da32",
   "metadata": {},
   "outputs": [
    {
     "name": "stdout",
     "output_type": "stream",
     "text": [
      "[[21 12  9]\n",
      " [12 16 11]]\n"
     ]
    },
    {
     "data": {
      "text/plain": [
       "array([21, 16], dtype=int32)"
      ]
     },
     "execution_count": 74,
     "metadata": {},
     "output_type": "execute_result"
    }
   ],
   "source": [
    "# boolean Masking\n",
    "arr_b= np.random.randint(5,23, size=(2,3))\n",
    "print(arr_b)\n",
    "mask= arr_b > 12\n",
    "mask #masked values i true and false\n",
    "arr_b[mask]"
   ]
  },
  {
   "cell_type": "code",
   "execution_count": 86,
   "id": "aeb9560d-574a-435d-ae55-232404661cbe",
   "metadata": {},
   "outputs": [
    {
     "name": "stdout",
     "output_type": "stream",
     "text": [
      "matrix multiplication:  [[2458 2105 3577]\n",
      " [4675 3706 4827]\n",
      " [ 467  387  298]]\n",
      "matrix mul on (3*3) and (1*3) [[332]\n",
      " [579]\n",
      " [ 65]]\n"
     ]
    }
   ],
   "source": [
    "# matrix multiplication \n",
    "arr_m=np.array([[2,43,5], [23,56,12],[4,3,2]])\n",
    "arr_n= np.random.randint(1,100, size= (3,3))\n",
    "arr_n\n",
    "print('matrix multiplication: ', np.dot(arr_m ,arr_n))\n",
    "arr_t= np.array([[1],[5],[23]])\n",
    "print('matrix mul on (3*3) and (1*3)', arr_m@ arr_t)"
   ]
  },
  {
   "cell_type": "code",
   "execution_count": null,
   "id": "3d2764d1-5ed6-4f49-a800-9b6d02fabdbc",
   "metadata": {},
   "outputs": [],
   "source": []
  }
 ],
 "metadata": {
  "kernelspec": {
   "display_name": "Python 3 (ipykernel)",
   "language": "python",
   "name": "python3"
  },
  "language_info": {
   "codemirror_mode": {
    "name": "ipython",
    "version": 3
   },
   "file_extension": ".py",
   "mimetype": "text/x-python",
   "name": "python",
   "nbconvert_exporter": "python",
   "pygments_lexer": "ipython3",
   "version": "3.13.5"
  }
 },
 "nbformat": 4,
 "nbformat_minor": 5
}
