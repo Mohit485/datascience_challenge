{
 "cells": [
  {
   "cell_type": "markdown",
   "id": "49ab2427-3ca4-4f98-9490-4522aaea8699",
   "metadata": {},
   "source": [
    "Create NumPy arrays from scratch and from data & Perform:\n",
    "\n",
    "*Basic ops: +, *, .reshape(), .mean(), .std()\n",
    "\n",
    "*Boolean masking\n",
    "\n",
    "*Matrix multiplication \n",
    "\n",
    "*Broadcasting (np.array([1,2,3]) + 5)\n",
    "\n",
    "*np.where(), np.any(), np.all() usage\n",
    "\n",
    "*Compare memory/time between NumPy arrays and Python lists"
   ]
  },
  {
   "cell_type": "code",
   "execution_count": 3,
   "id": "9970d765-2445-4593-9baa-14a7c5bb97e8",
   "metadata": {},
   "outputs": [],
   "source": [
    "import numpy as np"
   ]
  },
  {
   "cell_type": "code",
   "execution_count": 4,
   "id": "4a1e7e5b-f9aa-45fe-9af3-35490c858550",
   "metadata": {},
   "outputs": [
    {
     "name": "stdout",
     "output_type": "stream",
     "text": [
      "sum: [ 7 10  7]\n",
      "product: [ 6 16 12]\n",
      "original array [1 2 3 6 8 4]\n",
      "reshaped array: [[1 2 3]\n",
      " [6 8 4]]\n",
      "mean: 4.0\n",
      "stadard deviation: 2.38\n"
     ]
    }
   ],
   "source": [
    "# nnumpy array for manipulation (1-d)\n",
    "arr_1= np.array([1,2,3])\n",
    "arr_2= np.array([6,8,4])\n",
    "# add\n",
    "add= arr_1+arr_2\n",
    "print('sum:',add)\n",
    "#multiply\n",
    "mul= arr_1* arr_2\n",
    "print('product:',mul)\n",
    "# reshape\n",
    "arr_3= np.concatenate((arr_1, arr_2), axis=0)\n",
    "print('original array',arr_3)\n",
    "arr_4= arr_3.reshape(2,3)\n",
    "print('reshaped array:',arr_4)\n",
    "#mean\n",
    "mean=arr_3.mean()\n",
    "print('mean:', mean)\n",
    "stand_dev= arr_3.std().round(2)\n",
    "print('stadard deviation:', stand_dev)\n"
   ]
  },
  {
   "cell_type": "code",
   "execution_count": 5,
   "id": "358a1f75-3376-4d03-a781-067c3be45aa9",
   "metadata": {},
   "outputs": [
    {
     "name": "stdout",
     "output_type": "stream",
     "text": [
      "reshapes array: [[[ 2  4  3  8]\n",
      "  [12 45 23 56]\n",
      "  [12 63 11 34]]]\n",
      "sum [[ 8 76 15 29 16 48]\n",
      " [46 60 17 75 64 57]]\n",
      "product: [[ 12 288  36 168  48 135]\n",
      " [529 224  60 756 583 782]]\n",
      "mean: 22.75\n",
      "standard deviation: 20.74\n"
     ]
    }
   ],
   "source": [
    "#2-d\n",
    "arr_2d= np.array([[2,4,3,8,12,45], [23,56,12,63,11,34]])\n",
    "arr_2d1= np.array([[6,72,12,21,4,3],[23,4,5,12,53,23]])\n",
    "\n",
    "#reshape\n",
    "arr_3d=arr_2d.reshape(1,3,4)\n",
    "print('reshapes array:',arr_3d.reshape(1,3,4))\n",
    "#add\n",
    "print('sum', arr_2d+ arr_2d1)\n",
    "#product\n",
    "print('product:', arr_2d *arr_2d1)\n",
    "#mean\n",
    "print('mean:', arr_2d.mean())\n",
    "#standard deviation\n",
    "print('standard deviation:', arr_2d1.std().round(2))\n"
   ]
  },
  {
   "cell_type": "code",
   "execution_count": 11,
   "id": "ac9a240f-e7d1-4507-9c6f-919d9c3a7160",
   "metadata": {},
   "outputs": [
    {
     "name": "stdout",
     "output_type": "stream",
     "text": [
      "[[[ 2 16 31 32]\n",
      "  [10 13 34 26]\n",
      "  [22  6 46 13]]] \n",
      "\n",
      "sum: [[[ 4 20 34 40]\n",
      "  [22 58 57 82]\n",
      "  [34 69 57 47]]] \n",
      "\n",
      "product: [[[  4  64  93 224]\n",
      "  [ 20  52 102 182]\n",
      "  [ 44  24 138  91]]] \n",
      "\n",
      "add using broadcasting: [[[ 4  8  6 15]\n",
      "  [14 49 26 63]\n",
      "  [14 67 14 41]]]\n",
      "add using broadcasting: [[[ 4 20 34 40]\n",
      "  [22 58 57 82]\n",
      "  [34 69 57 47]]]\n"
     ]
    }
   ],
   "source": [
    "# 3-d (broadcasting)\n",
    "arr_3d1= np.random.randint(1,50 , size= (1,3,4))\n",
    "print(arr_3d1,'\\n')\n",
    "#add \n",
    "print('sum:', arr_3d+ arr_3d1 ,'\\n')\n",
    "# product\n",
    "arr_1d= np.array([2,4,3,7])\n",
    "print('product:', arr_3d1*arr_1d, '\\n') #here broadcasting works by multiplying two arrays of different sizes and dimension\n",
    "#add using broadcasting\n",
    "print('add using broadcasting:', arr_3d+ arr_1d)\n",
    "print('add using broadcasting:', arr_3d+ arr_3d1)"
   ]
  },
  {
   "cell_type": "markdown",
   "id": "3444f715-d269-4f04-b8d8-1c9fd30dcf6c",
   "metadata": {},
   "source": [
    "broadcasting only works when shape of the rows are same of two arrays like [1,2,3] and [[2,5,3],[4,6,4]]"
   ]
  },
  {
   "cell_type": "code",
   "execution_count": 7,
   "id": "1ca65e8c-4e40-41a0-8f37-91d6ec52da32",
   "metadata": {},
   "outputs": [
    {
     "name": "stdout",
     "output_type": "stream",
     "text": [
      "[[ 8 19  7]\n",
      " [13 17 20]]\n"
     ]
    },
    {
     "data": {
      "text/plain": [
       "array([19, 13, 17, 20], dtype=int32)"
      ]
     },
     "execution_count": 7,
     "metadata": {},
     "output_type": "execute_result"
    }
   ],
   "source": [
    "# boolean Masking\n",
    "arr_b= np.random.randint(5,23, size=(2,3))\n",
    "print(arr_b)\n",
    "mask= arr_b > 12\n",
    "mask #masked values i true and false\n",
    "arr_b[mask]"
   ]
  },
  {
   "cell_type": "markdown",
   "id": "e4c31cdc-3247-4d8a-b547-015bb395cc35",
   "metadata": {},
   "source": [
    "in boolean masking we are passing a condition, and if it comestrue it will show every true value"
   ]
  },
  {
   "cell_type": "code",
   "execution_count": 8,
   "id": "aeb9560d-574a-435d-ae55-232404661cbe",
   "metadata": {},
   "outputs": [
    {
     "name": "stdout",
     "output_type": "stream",
     "text": [
      "matrix multiplication:  [[1724 2808 1765]\n",
      " [3246 5676 3974]\n",
      " [ 344  594  477]]\n",
      "matrix mul on (3*3) and (1*3) [[332]\n",
      " [579]\n",
      " [ 65]]\n"
     ]
    }
   ],
   "source": [
    "# matrix multiplication \n",
    "arr_m=np.array([[2,43,5], [23,56,12],[4,3,2]])\n",
    "arr_n= np.random.randint(1,100, size= (3,3))\n",
    "arr_n\n",
    "print('matrix multiplication: ', np.dot(arr_m ,arr_n))\n",
    "arr_t= np.array([[1],[5],[23]])\n",
    "print('matrix mul on (3*3) and (1*3)', arr_m@ arr_t)"
   ]
  },
  {
   "cell_type": "code",
   "execution_count": 10,
   "id": "3d2764d1-5ed6-4f49-a800-9b6d02fabdbc",
   "metadata": {},
   "outputs": [
    {
     "name": "stdout",
     "output_type": "stream",
     "text": [
      "the sum : [6 7 8]\n"
     ]
    }
   ],
   "source": [
    "#Broadcasting (np.array([1,2,3]) + 5)\n",
    "arr_b= np.array([1,2,3])\n",
    "print('the sum :', arr_b + 5)"
   ]
  },
  {
   "cell_type": "markdown",
   "id": "6eaf614b-c3fd-4c67-824d-fb927290b3fa",
   "metadata": {},
   "source": [
    "broadcasting extends the smaller array to be manipulated or aggregted with big size array "
   ]
  },
  {
   "cell_type": "code",
   "execution_count": 46,
   "id": "d87ecfb5-2eba-43d1-a202-591ba4601de5",
   "metadata": {},
   "outputs": [
    {
     "name": "stdout",
     "output_type": "stream",
     "text": [
      "the sum of two lists : [6, 10, 37]\n",
      "the sum of two arrays (np): [ 7 11 24]\n",
      "time taken by sum of two lists : 0.007679800000914838\n",
      "time taken by sum of two np arrays: 0.09772760000123526\n"
     ]
    }
   ],
   "source": [
    "#Compare memory/time between NumPy arrays and Python lists\n",
    "# sum on python lists\n",
    "l1= [2,4,5]\n",
    "l2=[4,6,32]\n",
    "#for x,y in zip(l1,l2):   # zip pair the elements of l1 to elements of l2 like ([2,4], [4,6], [5,32]) as a tuple, x takes values from a and y takes values from b\n",
    "res=[ x+y for x,y in zip(l1,l2)]\n",
    "print('the sum of two lists :', res)\n",
    "\n",
    "# numpy sum \n",
    "n1= np.array([2,4,3])\n",
    "n2= np.array([5,7,21])\n",
    "print('the sum of two arrays (np):', np.add(n1,n2) )\n",
    "# evaluation of efficiency\n",
    "from timeit import timeit\n",
    "time_list= timeit('''l1= [2,4,5]\n",
    "l2=[4,6,32]\n",
    "res=[ x+y for x,y in zip(l1,l2)]\n",
    "\n",
    "''', number=10000)\n",
    "print('time taken by sum of two lists :',time_list)\n",
    "time_array=timeit(''' \n",
    "import numpy as np\n",
    "n1= np.array([2,4,3])\n",
    "n2= np.array([5,7,21])\n",
    "sumnp= n1+n2\n",
    "''', number= 10000)\n",
    "print('time taken by sum of two np arrays:', time_array )\n"
   ]
  },
  {
   "cell_type": "markdown",
   "id": "b357814d-4733-487f-9042-fbcb77703c35",
   "metadata": {},
   "source": [
    "zip() pair the elements of l1 to elements of l2 like ([2,4], [4,6], [5,32]) as a tuple, x takes values from a and y takes values from b.\n",
    "here we have taken two lists and add them, and same goes for np arrays, now we are evaluating the time taken by both addition functions by using timeit(). in timeit we enclose the whole code in triple qoutes to make that python code into a single multiline string."
   ]
  },
  {
   "cell_type": "code",
   "execution_count": 61,
   "id": "885cd3ef-2c38-42b9-a534-de29d1b04b1f",
   "metadata": {},
   "outputs": [
    {
     "name": "stdout",
     "output_type": "stream",
     "text": [
      "[1 6 5 2 4]\n",
      "[ 5  7  9  9 11]\n",
      "less than 4 will be * ['*' 'o' 'o' '*' 'o']\n",
      "[ 5  7  9  9 11]\n"
     ]
    }
   ],
   "source": [
    "#np.where(), np.any(), np.all() usage\n",
    "ar= np.random.randint(1,10, 5)\n",
    "print(ar)\n",
    "ar1= np.random.randint(1,20,5)\n",
    "print(ar1)\n",
    "print('less than 4 will be *',np.where(ar<4, '*', 'o'))# elements less than 4 will be * and more than 4 will be o\n",
    "print(np.where(ar>7, ar, ar1)) # elements if greater than 7 they will return all values of ar and then will get values from ar1"
   ]
  },
  {
   "cell_type": "markdown",
   "id": "8092a15e-4892-4de1-8f1b-37ee43623f80",
   "metadata": {},
   "source": [
    "np.where() is a conditional function which takes a condition and x, y where x contains truth values and y contains false values"
   ]
  },
  {
   "cell_type": "code",
   "execution_count": 67,
   "id": "005e59b5-0a16-4961-aa5b-875d899e6c90",
   "metadata": {},
   "outputs": [
    {
     "name": "stdout",
     "output_type": "stream",
     "text": [
      "True\n",
      "False\n",
      "[[ True  True  True]]\n",
      "[[False False  True]]\n"
     ]
    }
   ],
   "source": [
    "# np.any()\n",
    "wr= np.array([0,1,1,2,3,0])\n",
    "print(np.any(wr<1)) # np.any() gives a true if any of the element is conditionally true \n",
    "wr1= np.array([0,1,4,1])\n",
    "print(np.all(wr>0))  # np.all() gives true value only if all  the values are conditionally true \n",
    "wrr= np.array([[[2,3,4],[3,4,5],[7,2,6]]])\n",
    "print(np.any(wrr<6, axis=1))\n",
    "print(np.all(wrr>3, axis= 1))"
   ]
  },
  {
   "cell_type": "markdown",
   "id": "aa32a3b1-6805-4c9b-bc2a-12237e7c0cd6",
   "metadata": {},
   "source": [
    "np.any() gives a true if any of the element is conditionally true, np.all() gives true value only if all  the values are conditionally true."
   ]
  }
 ],
 "metadata": {
  "kernelspec": {
   "display_name": "Python 3 (ipykernel)",
   "language": "python",
   "name": "python3"
  },
  "language_info": {
   "codemirror_mode": {
    "name": "ipython",
    "version": 3
   },
   "file_extension": ".py",
   "mimetype": "text/x-python",
   "name": "python",
   "nbconvert_exporter": "python",
   "pygments_lexer": "ipython3",
   "version": "3.13.5"
  }
 },
 "nbformat": 4,
 "nbformat_minor": 5
}
